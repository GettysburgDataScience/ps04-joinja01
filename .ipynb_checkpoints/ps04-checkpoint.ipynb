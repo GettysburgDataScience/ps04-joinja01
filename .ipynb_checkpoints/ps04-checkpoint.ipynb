{
 "cells": [
  {
   "cell_type": "markdown",
   "id": "83177ee9",
   "metadata": {},
   "source": [
    "## Jack Joiner (SectionA)"
   ]
  },
  {
   "cell_type": "markdown",
   "id": "a1b00660-589c-4adf-91a5-c2875670a724",
   "metadata": {},
   "source": [
    "DS 256 Data Science Programming, Fall 2024\n",
    "\n",
    "Prof Eatai Roth\n",
    "\n",
    "## Problem Set 4\n",
    "Due 11/4/2024 by 5p"
   ]
  },
  {
   "cell_type": "markdown",
   "id": "34ee7898",
   "metadata": {},
   "source": [
    "### Problem 1\n",
    "Write a function ```greaterThan(A, lower_lim)``` that takes as an argument a numpy array A and a number lower_lim and returns an array with every entry less than or equal to lower_lim replaced by zero. That is to say, only the numbers strictly greater than lower_lim remain, the rest are 0."
   ]
  },
  {
   "cell_type": "code",
   "execution_count": 12,
   "id": "6c0848ae",
   "metadata": {},
   "outputs": [],
   "source": [
    "import numpy as np\n",
    "\n",
    "def greaterThan(A, lower_lim):\n",
    "    answer = np.where(A > lower_lim, A, 0)\n",
    "    return answer\n",
    "\n",
    "A = np.array([1, 2, 3, 4, 5, 6, 7, 8, 9])\n",
    "B = np.array([[-1, 1], [2, -2], [0, 3]])\n",
    "C = np.array([[101.1, 100, 99.9], [99.8, 100.1, 98.9], [103.2, 99, 98]])\n",
    "\n",
    "\n"
   ]
  },
  {
   "cell_type": "code",
   "execution_count": 16,
   "id": "a57c2f50",
   "metadata": {},
   "outputs": [
    {
     "name": "stdout",
     "output_type": "stream",
     "text": [
      "You passed all the tests!\n"
     ]
    }
   ],
   "source": [
    "A = np.array([1, 2, 3, 4, 5, 6, 7, 8, 9])\n",
    "B = np.array([[-1, 1], [2, -2], [0, 3]])\n",
    "C = np.array([[101.1, 100, 99.9], [99.8, 100.1, 98.9], [103.2, 99, 98]])\n",
    "\n",
    "assert np.all(greaterThan(A, 5) == np.array([0, 0, 0, 0, 0, 6, 7, 8, 9]))\n",
    "assert np.all(greaterThan(B, 0) == np.array([[0, 1], [2, 0], [0, 3]]))\n",
    "assert np.all(greaterThan(C, 100) == np.array([[101.1, 0, 0], [0, 100.1, 0], [103.2, 0, 0]]))\n",
    "\n",
    "print(\"You passed all the tests!\")"
   ]
  },
  {
   "cell_type": "markdown",
   "id": "878a3744",
   "metadata": {},
   "source": [
    "### Problem 2\n",
    "Write a function ```subtractMean(A)``` that takes as an input the numpy array and returns the array with the mean of all the values subtracted from every element."
   ]
  },
  {
   "cell_type": "code",
   "execution_count": 68,
   "id": "c40ea21b",
   "metadata": {},
   "outputs": [],
   "source": [
    "import numpy as np\n",
    "\n",
    "def subtractMean(A):\n",
    "    mean = np.mean(A)\n",
    "    answer = A - mean\n",
    "    return answer\n",
    "\n",
    "A = np.array([1, 2, 3, 4, 5, 6, 7, 8, 9])\n",
    "B = np.array([[-1, 1], [2, -2], [0, 3]])\n",
    "C = np.array([[101.1, 100, 99.9], [99.8, 100.1, 98.9], [103.2, 99, 98]])\n",
    "\n"
   ]
  },
  {
   "cell_type": "markdown",
   "id": "8c36e69e",
   "metadata": {},
   "source": [
    "If the tests below aren't passing, check the values of A, B, and C. These should be the same as in the test for Problem 1. If the values in these arrays have changed, why might that be?"
   ]
  },
  {
   "cell_type": "code",
   "execution_count": 72,
   "id": "eee6cfea",
   "metadata": {},
   "outputs": [
    {
     "name": "stdout",
     "output_type": "stream",
     "text": [
      "You passed all the tests!\n"
     ]
    }
   ],
   "source": [
    "assert np.isclose(subtractMean(A), np.array([-4., -3., -2., -1.,  0.,  1.,  2.,  3.,  4.])).all()\n",
    "assert np.isclose(subtractMean(B), np.array([[-1.5,  0.5],[ 1.5, -2.5],[-0.5,  2.5]])).all()\n",
    "assert np.isclose(subtractMean(C), np.array([[ 1.1,  0. , -0.1],[-0.2,  0.1, -1.1],[ 3.2, -1. , -2. ]])).all()\n",
    "\n",
    "print(\"You passed all the tests!\")\n"
   ]
  },
  {
   "cell_type": "markdown",
   "id": "50e5f128",
   "metadata": {},
   "source": [
    "### Problem 3\n",
    "\n",
    "Write a function ```arrayEdges``` that takes as an input an array and returns a 1-D array of all the elements on the edges of the array starting at the upper left corner and working around clockwise. Do not repeat that first element. If the original array is not 2-D, print('Error') and return -1.\n",
    "\n",
    "*Hint*: Get the shape of the array as height and width, calculate the perimeter (remember not to double count the corners), and make an array of zeros the size of the perimeter. Then fill that array.\n",
    "\n",
    "*Hint 2*: The length of the shape of a 2-D array is 2.\n",
    "\n",
    "*Hint 3*: ```dA = A.dtype``` is the data type of A. ```np.zeros().astype(dA)``` creates an array of that type (if A has strings, this will make an array of '0')."
   ]
  },
  {
   "cell_type": "code",
   "execution_count": 56,
   "id": "6165dcb5",
   "metadata": {},
   "outputs": [
    {
     "name": "stdout",
     "output_type": "stream",
     "text": [
      "Error\n"
     ]
    }
   ],
   "source": [
    "import numpy as np\n",
    "\n",
    "def arrayEdges(A):\n",
    "    if len(A.shape) != 2:\n",
    "        print('Error')\n",
    "        return -1\n",
    "  \n",
    "    h,w = A.shape\n",
    "    perim_vals = []\n",
    "        \n",
    "    for i in range (w):\n",
    "        perim_vals.append(A[0][i])\n",
    "    for i in range(1,h):\n",
    "        perim_vals.append(A[i][w-1])\n",
    "    for i in range (w-2, -1, -1):\n",
    "        perim_vals.append(A[h-1][i])\n",
    "    for i in range(h-2,0,-1):\n",
    "        perim_vals.append(A[i][0])\n",
    "\n",
    "    return np.array(perim_vals)\n",
    "\n",
    "X = np.array([[1, 2, 3], [4, 5, 6], [7, 8, 9]])\n",
    "Y = np.array([['you', 'got', 'this'],['!','correct','problem']])\n",
    "Z = np.array(['but','this','wont', 'work'])   \n",
    "\n",
    "assert np.array(arrayEdges(X) == np.array([1, 2, 3, 6, 9, 8, 7, 4])).all()\n",
    "assert np.array(arrayEdges(Y) == np.array(['you', 'got', 'this', 'problem', 'correct', '!'])).all()\n",
    "assert arrayEdges(Z) == -1\n",
    "\n",
    "\n",
    "    "
   ]
  },
  {
   "cell_type": "markdown",
   "id": "f943e82d",
   "metadata": {},
   "source": [
    "## Palmer's Penguins\n",
    "\n",
    "Below I've imported the Palmer's Penguins dataset, courtesy of Alison Horst's github. Fill in the blanks in Problem 4. You should add code cells below to write code to find the answers."
   ]
  },
  {
   "cell_type": "code",
   "execution_count": 36,
   "id": "ee42d632",
   "metadata": {},
   "outputs": [
    {
     "name": "stdout",
     "output_type": "stream",
     "text": [
      "344\n"
     ]
    }
   ],
   "source": [
    "import pandas as pd\n",
    "\n",
    "pp_df = pd.read_csv('https://raw.githubusercontent.com/allisonhorst/palmerpenguins/main/inst/extdata/penguins.csv')\n",
    "pp_df.head()\n",
    "\n",
    "rows = pp_df.shape[0]\n",
    "print(rows)"
   ]
  },
  {
   "cell_type": "code",
   "execution_count": 50,
   "id": "2f59e324-6335-4e4f-8819-fe50da68fd52",
   "metadata": {},
   "outputs": [
    {
     "name": "stdout",
     "output_type": "stream",
     "text": [
      "2700.0\n",
      "6300.0\n"
     ]
    }
   ],
   "source": [
    "import pandas as pd\n",
    "\n",
    "pp_df = pd.read_csv('https://raw.githubusercontent.com/allisonhorst/palmerpenguins/main/inst/extdata/penguins.csv')\n",
    "pp_df.head()\n",
    "\n",
    "column = \"body_mass_g\"\n",
    "\n",
    "min = pp_df[column].min()\n",
    "max = pp_df[column].max()\n",
    "\n",
    "print(min)\n",
    "print(max)\n",
    "\n"
   ]
  },
  {
   "cell_type": "code",
   "execution_count": 54,
   "id": "7d5eb82a-8699-4fda-9507-8a2d6cfaa42e",
   "metadata": {},
   "outputs": [
    {
     "name": "stdout",
     "output_type": "stream",
     "text": [
      "species\n",
      "Adelie       152\n",
      "Gentoo       124\n",
      "Chinstrap     68\n",
      "Name: count, dtype: int64\n"
     ]
    }
   ],
   "source": [
    "import pandas as pd\n",
    "\n",
    "pp_df = pd.read_csv('https://raw.githubusercontent.com/allisonhorst/palmerpenguins/main/inst/extdata/penguins.csv')\n",
    "pp_df.head()\n",
    "\n",
    "species = pp_df[\"species\"].value_counts()\n",
    "\n",
    "print(species)\n"
   ]
  },
  {
   "cell_type": "markdown",
   "id": "54a3fab2",
   "metadata": {},
   "source": [
    "### Problem 4\n",
    "\n",
    " 1. How many penguins were recorded? \n",
    "\n",
    "  - 344 were recorded\n",
    "\n",
    " 2. In terms of body mass, how big were the smallest and biggest penguins measured?\n",
    "\n",
    "  - Smallest: 2700\n",
    "  - Biggest: 6300\n",
    "\n",
    " 3. What species of penguins were recorded and how many of each?\n",
    "\n",
    " - Adelie = 152\n",
    " - Gento = 124\n",
    " - Chinstrap = 68"
   ]
  },
  {
   "cell_type": "markdown",
   "id": "f487bce0",
   "metadata": {},
   "source": [
    "### Problem 5\n",
    "\n",
    "Plot a histogram of the body masses of penguins grouped by species. Make sure to include a title, axis labels, and a legend."
   ]
  },
  {
   "cell_type": "code",
   "execution_count": 62,
   "id": "00b6d6ea",
   "metadata": {},
   "outputs": [
    {
     "data": {
      "image/png": "[encoded data removed]",
      "text/plain": [
       "<Figure size 1000x600 with 1 Axes>"
      ]
     },
     "metadata": {},
     "output_type": "display_data"
    }
   ],
   "source": [
    "import pandas as pd\n",
    "import matplotlib.pyplot as plt\n",
    "\n",
    "pp_df = pd.read_csv('https://raw.githubusercontent.com/allisonhorst/palmerpenguins/main/inst/extdata/penguins.csv')\n",
    "\n",
    "species = pp_df['species'].unique()\n",
    "colors = ['darkorange', 'green', 'purple']\n",
    "\n",
    "plt.figure(figsize=(10, 6))\n",
    "for sp, color in zip(species, colors):\n",
    "    subset = pp_df[pp_df['species'] == sp]\n",
    "    plt.hist(subset['body_mass_g'], bins=20, alpha=0.5, label=sp, color=color)\n",
    "\n",
    "plt.title('Penguin Species Body Mass Distribution', fontsize = 16)\n",
    "plt.xlabel('Body Mass (g)', fontsize = 14)\n",
    "plt.ylabel('Frequency', fontsize = 14)\n",
    "\n",
    "plt.legend(title='Species', fontsize = 12, title_fontsize = 14)\n",
    "\n",
    "plt.show()\n",
    "\n"
   ]
  },
  {
   "cell_type": "markdown",
   "id": "25a9dd58-0368-4269-bf39-5d601ac58eb9",
   "metadata": {},
   "source": [
    "### Challenge Problem\n",
    "\n",
    "Write a function ```interleaveArrays``` that takes as arguments two numpy arrays A and B and return a new numpy array with the rows of A and B interleaved, starting with A. If you run out of rows from one matrix or the other complete the array with the remaining rows of the longer array.\n",
    "\n",
    "If the two arrays do not have the same number of columns, print('Error: Shapes of arrays are not compatible.') and return -1\n",
    "If the two arrays contain different data types, print('Error: Types of arrays are not compatible.') and return -2\n",
    "\n",
    "Example:\n",
    "\n",
    "```\n",
    "G = np.array([[1, 2, 3], [4, 5, 6]])\n",
    "H = np.array([[10, 20, 30], [100, 200, 300], [1000, 2000, 3000]])\n",
    "\n",
    "interleave(G,H)\n",
    "```\n",
    "returns\n",
    "```\n",
    "array([[1,2,3], [10,20,30], [4, 5, 6], [100, 200, 300], [1000, 2000, 3000]])\n",
    "```"
   ]
  },
  {
   "cell_type": "code",
   "execution_count": 60,
   "id": "825784c9-b952-450f-b667-13311d8e27cc",
   "metadata": {},
   "outputs": [
    {
     "name": "stdout",
     "output_type": "stream",
     "text": [
      "[[   1    2    3]\n",
      " [  10   20   30]\n",
      " [   4    5    6]\n",
      " [ 100  200  300]\n",
      " [1000 2000 3000]]\n"
     ]
    }
   ],
   "source": [
    "import numpy as np\n",
    "\n",
    "def interleaveArrays(A, B):\n",
    "   \n",
    "    if A.shape[1] != B.shape[1]:\n",
    "        print('Error: Shapes of arrays are not compatible.')\n",
    "        return -1\n",
    "    if A.dtype != B.dtype:\n",
    "        print('Error: Types of arrays are not compatible.')\n",
    "        return -2\n",
    "    \n",
    "    rows_A, rows_B = A.shape[0], B.shape[0]\n",
    "    interleaved_rows = []\n",
    "\n",
    "    for row_A, row_B in zip(range(rows_A), range(rows_B)):\n",
    "        interleaved_rows.append(A[row_A])  \n",
    "        interleaved_rows.append(B[row_B]) \n",
    "\n",
    "    if rows_A > rows_B:\n",
    "        interleaved_rows.extend(A[rows_B:])\n",
    "    elif rows_B > rows_A:\n",
    "        interleaved_rows.extend(B[rows_A:])\n",
    "    \n",
    "    return np.array(interleaved_rows)\n",
    "\n",
    "G = np.array([[1, 2, 3], [4, 5, 6]])\n",
    "H = np.array([[10, 20, 30], [100, 200, 300], [1000, 2000, 3000]])\n",
    "\n",
    "result = interleaveArrays(G, H)\n",
    "print(result)\n",
    "\n",
    "\n",
    "\n",
    "\n",
    "    \n"
   ]
  },
  {
   "cell_type": "code",
   "execution_count": null,
   "id": "5bcc6145-3cb6-4f9a-864d-fe8443dd3c44",
   "metadata": {},
   "outputs": [],
   "source": []
  }
 ],
 "metadata": {
  "kernelspec": {
   "display_name": "Python 3 (ipykernel)",
   "language": "python",
   "name": "python3"
  },
  "language_info": {
   "codemirror_mode": {
    "name": "ipython",
    "version": 3
   },
   "file_extension": ".py",
   "mimetype": "text/x-python",
   "name": "python",
   "nbconvert_exporter": "python",
   "pygments_lexer": "ipython3",
   "version": "3.12.4"
  }
 },
 "nbformat": 4,
 "nbformat_minor": 5
}
